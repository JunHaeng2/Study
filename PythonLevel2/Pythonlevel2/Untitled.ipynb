{
 "cells": [
  {
   "cell_type": "code",
   "execution_count": 1,
   "id": "6c84e5fe-6b16-4f48-bb79-86eff9535030",
   "metadata": {},
   "outputs": [],
   "source": [
    "# 일급함수, 익명함수(Lambda), Callable, Partial "
   ]
  },
  {
   "cell_type": "code",
   "execution_count": 2,
   "id": "b038c97e-460b-4815-8bdd-f3beb56253f5",
   "metadata": {},
   "outputs": [],
   "source": [
    "def factorial(n):\n",
    "    \"\"\"\n",
    "    Factorial Function\n",
    "    \"\"\"\n",
    "    if n == 1:\n",
    "        return 1\n",
    "    else:\n",
    "        return n * factorial(n-1)"
   ]
  },
  {
   "cell_type": "code",
   "execution_count": 3,
   "id": "ef9574e7-c62e-45f9-b633-822371584a14",
   "metadata": {},
   "outputs": [
    {
     "name": "stdout",
     "output_type": "stream",
     "text": [
      "\n",
      "    Factorial Function\n",
      "    \n"
     ]
    }
   ],
   "source": [
    "print(factorial.__doc__)"
   ]
  },
  {
   "cell_type": "code",
   "execution_count": 4,
   "id": "f5b91784-fb58-415a-a374-38260fbe4bf9",
   "metadata": {},
   "outputs": [],
   "source": [
    "# .__doc__ => 내부의 \"\"\" 사이의 주석을 보여줌"
   ]
  },
  {
   "cell_type": "code",
   "execution_count": 5,
   "id": "6a1519b3-81ba-4867-b72f-5664c92d8a3d",
   "metadata": {},
   "outputs": [
    {
     "name": "stdout",
     "output_type": "stream",
     "text": [
      "['__annotations__', '__call__', '__class__', '__closure__', '__code__', '__defaults__', '__delattr__', '__dict__', '__dir__', '__doc__', '__eq__', '__format__', '__ge__', '__get__', '__getattribute__', '__globals__', '__gt__', '__hash__', '__init__', '__init_subclass__', '__kwdefaults__', '__le__', '__lt__', '__module__', '__name__', '__ne__', '__new__', '__qualname__', '__reduce__', '__reduce_ex__', '__repr__', '__setattr__', '__sizeof__', '__str__', '__subclasshook__']\n"
     ]
    }
   ],
   "source": [
    "print(dir(factorial))"
   ]
  },
  {
   "cell_type": "code",
   "execution_count": 6,
   "id": "434798bd-6523-4550-af45-de778b1062dd",
   "metadata": {},
   "outputs": [
    {
     "name": "stdout",
     "output_type": "stream",
     "text": [
      "factorial\n"
     ]
    }
   ],
   "source": [
    "print(factorial.__name__)"
   ]
  },
  {
   "cell_type": "code",
   "execution_count": 7,
   "id": "c81bb998-896b-4241-a6fc-a5125ed26e4e",
   "metadata": {},
   "outputs": [
    {
     "name": "stdout",
     "output_type": "stream",
     "text": [
      "<code object factorial at 0x7fed49757920, file \"/var/folders/54/fsqd9k755tnfm2xzhsby4bh00000gn/T/ipykernel_36686/1497944945.py\", line 1>\n"
     ]
    }
   ],
   "source": [
    "print(factorial.__code__)"
   ]
  },
  {
   "cell_type": "code",
   "execution_count": 8,
   "id": "3334cb52-223f-4299-bf33-d6574a0b7245",
   "metadata": {},
   "outputs": [],
   "source": [
    "# 함수 인수 전달 및 함수로 결과 반환 -> 고위함수\n",
    "# map, filter, reduce 등.. "
   ]
  },
  {
   "cell_type": "code",
   "execution_count": null,
   "id": "c44821f1-776a-4368-a65f-d02259e93caf",
   "metadata": {},
   "outputs": [],
   "source": [
    "# 함수를 이렇게 변수에다가 할당할수있다는 소리임.. \n",
    "# 그걸 11번에서와 같이 사용하는 방식으로..! "
   ]
  },
  {
   "cell_type": "code",
   "execution_count": 10,
   "id": "eb5538b2-9571-4865-9913-b336dbc223b0",
   "metadata": {},
   "outputs": [],
   "source": [
    "var_func = factorial"
   ]
  },
  {
   "cell_type": "code",
   "execution_count": 11,
   "id": "b5fa9136-588b-4f24-a6b5-34972f22156a",
   "metadata": {},
   "outputs": [
    {
     "name": "stdout",
     "output_type": "stream",
     "text": [
      "[1, 6, 120]\n"
     ]
    }
   ],
   "source": [
    "print(list(map(var_func, filter(lambda x : x % 2, range(1, 6)))))"
   ]
  },
  {
   "cell_type": "code",
   "execution_count": 12,
   "id": "a7d68f6e-9953-4c42-add7-095e221b859b",
   "metadata": {},
   "outputs": [
    {
     "name": "stdout",
     "output_type": "stream",
     "text": [
      "[1, 6, 120]\n"
     ]
    }
   ],
   "source": [
    "print([var_func(i) for i in range(1, 6) if i % 2])"
   ]
  },
  {
   "cell_type": "code",
   "execution_count": 14,
   "id": "4c212173-00df-4ec5-bc37-a0dfc20cfdf1",
   "metadata": {},
   "outputs": [],
   "source": [
    "from functools import reduce\n",
    "from operator import add"
   ]
  },
  {
   "cell_type": "code",
   "execution_count": 15,
   "id": "1a20c34e-4580-49f2-93ac-ff403185de89",
   "metadata": {},
   "outputs": [],
   "source": [
    "# * 가변인자를 사용하고자 할때 사용한다..\n",
    "# positional arguments, keyword arguments \n",
    "# 위치에 따라 정해지는 인자.. 이름을 가진 인자 \n",
    "# variadic Parameter (가변인자)"
   ]
  },
  {
   "cell_type": "code",
   "execution_count": null,
   "id": "5e04aa5f-5553-4e42-8a0d-8250be557eee",
   "metadata": {},
   "outputs": [],
   "source": []
  }
 ],
 "metadata": {
  "kernelspec": {
   "display_name": "Python 3 (ipykernel)",
   "language": "python",
   "name": "python3"
  },
  "language_info": {
   "codemirror_mode": {
    "name": "ipython",
    "version": 3
   },
   "file_extension": ".py",
   "mimetype": "text/x-python",
   "name": "python",
   "nbconvert_exporter": "python",
   "pygments_lexer": "ipython3",
   "version": "3.9.7"
  }
 },
 "nbformat": 4,
 "nbformat_minor": 5
}
